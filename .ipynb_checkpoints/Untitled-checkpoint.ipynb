{
 "cells": [
  {
   "cell_type": "code",
   "execution_count": 2,
   "metadata": {},
   "outputs": [],
   "source": [
    "import time\n",
    "import os\n",
    "import numpy as np\n",
    "import pandas as pd\n",
    "import datetime\n",
    "import warnings\n",
    "warnings.filterwarnings('ignore')"
   ]
  },
  {
   "cell_type": "code",
   "execution_count": 3,
   "metadata": {},
   "outputs": [],
   "source": [
    "import os\n",
    "file_name = os.listdir(\"Output/March/productivity_agent_valid\")\n",
    "# file_name = [name for name in file_name]"
   ]
  },
  {
   "cell_type": "code",
   "execution_count": 8,
   "metadata": {},
   "outputs": [
    {
     "name": "stdout",
     "output_type": "stream",
     "text": [
      "2022-03-26\n"
     ]
    }
   ],
   "source": [
    "output = pd.DataFrame()\n",
    "\n",
    "for file in file_name:\n",
    "    date = file.replace(\"productivity_agent_\", \"\").replace(\"_valid\", \"\").replace(\".xlsx\", \"\")\n",
    "    df = pd.read_excel(os.path.join(\"Output/March/productivity_agent_valid\", file))\n",
    "    df = df[[\"ID\", \"name\", \"class\", \"Productivity Score\"]]\n",
    "    df.rename(columns={\"Productivity Score\"})\n",
    "#     if output.empty:\n",
    "#         output = df\n",
    "#     else:\n",
    "#         output.merge\n",
    "#         break\n",
    "    print(date)\n",
    "    break\n"
   ]
  },
  {
   "cell_type": "code",
   "execution_count": 5,
   "metadata": {},
   "outputs": [
    {
     "data": {
      "text/html": [
       "<div>\n",
       "<style scoped>\n",
       "    .dataframe tbody tr th:only-of-type {\n",
       "        vertical-align: middle;\n",
       "    }\n",
       "\n",
       "    .dataframe tbody tr th {\n",
       "        vertical-align: top;\n",
       "    }\n",
       "\n",
       "    .dataframe thead th {\n",
       "        text-align: right;\n",
       "    }\n",
       "</style>\n",
       "<table border=\"1\" class=\"dataframe\">\n",
       "  <thead>\n",
       "    <tr style=\"text-align: right;\">\n",
       "      <th></th>\n",
       "      <th>ID</th>\n",
       "      <th>name</th>\n",
       "      <th>class</th>\n",
       "      <th>Productivity Score</th>\n",
       "    </tr>\n",
       "  </thead>\n",
       "  <tbody>\n",
       "    <tr>\n",
       "      <th>0</th>\n",
       "      <td>sp0446</td>\n",
       "      <td>高智勇</td>\n",
       "      <td>小夜</td>\n",
       "      <td>0.000000</td>\n",
       "    </tr>\n",
       "    <tr>\n",
       "      <th>1</th>\n",
       "      <td>sp0480</td>\n",
       "      <td>張氏金枝</td>\n",
       "      <td>早7</td>\n",
       "      <td>0.752563</td>\n",
       "    </tr>\n",
       "    <tr>\n",
       "      <th>2</th>\n",
       "      <td>sp0483</td>\n",
       "      <td>泰吳清泉</td>\n",
       "      <td>早7</td>\n",
       "      <td>0.640912</td>\n",
       "    </tr>\n",
       "    <tr>\n",
       "      <th>3</th>\n",
       "      <td>sp0492</td>\n",
       "      <td>阮氏秋香</td>\n",
       "      <td>早7</td>\n",
       "      <td>0.660684</td>\n",
       "    </tr>\n",
       "    <tr>\n",
       "      <th>4</th>\n",
       "      <td>sp0495</td>\n",
       "      <td>盤氏雲英</td>\n",
       "      <td>早7</td>\n",
       "      <td>0.871519</td>\n",
       "    </tr>\n",
       "    <tr>\n",
       "      <th>...</th>\n",
       "      <td>...</td>\n",
       "      <td>...</td>\n",
       "      <td>...</td>\n",
       "      <td>...</td>\n",
       "    </tr>\n",
       "    <tr>\n",
       "      <th>85</th>\n",
       "      <td>sp99103</td>\n",
       "      <td>李浤銘</td>\n",
       "      <td>小夜</td>\n",
       "      <td>0.642343</td>\n",
       "    </tr>\n",
       "    <tr>\n",
       "      <th>86</th>\n",
       "      <td>sp99115</td>\n",
       "      <td>徐鶴娟</td>\n",
       "      <td>小夜</td>\n",
       "      <td>0.000000</td>\n",
       "    </tr>\n",
       "    <tr>\n",
       "      <th>87</th>\n",
       "      <td>sp99119</td>\n",
       "      <td>林敬智</td>\n",
       "      <td>早7</td>\n",
       "      <td>0.000000</td>\n",
       "    </tr>\n",
       "    <tr>\n",
       "      <th>88</th>\n",
       "      <td>sp99121</td>\n",
       "      <td>劉家偉</td>\n",
       "      <td>小夜</td>\n",
       "      <td>0.449272</td>\n",
       "    </tr>\n",
       "    <tr>\n",
       "      <th>89</th>\n",
       "      <td>sp99124</td>\n",
       "      <td>傅琇蓁</td>\n",
       "      <td>早7</td>\n",
       "      <td>0.452530</td>\n",
       "    </tr>\n",
       "  </tbody>\n",
       "</table>\n",
       "<p>90 rows × 4 columns</p>\n",
       "</div>"
      ],
      "text/plain": [
       "         ID  name class  Productivity Score\n",
       "0    sp0446   高智勇    小夜            0.000000\n",
       "1    sp0480  張氏金枝    早7            0.752563\n",
       "2    sp0483  泰吳清泉    早7            0.640912\n",
       "3    sp0492  阮氏秋香    早7            0.660684\n",
       "4    sp0495  盤氏雲英    早7            0.871519\n",
       "..      ...   ...   ...                 ...\n",
       "85  sp99103   李浤銘    小夜            0.642343\n",
       "86  sp99115   徐鶴娟    小夜            0.000000\n",
       "87  sp99119   林敬智    早7            0.000000\n",
       "88  sp99121   劉家偉    小夜            0.449272\n",
       "89  sp99124   傅琇蓁    早7            0.452530\n",
       "\n",
       "[90 rows x 4 columns]"
      ]
     },
     "execution_count": 5,
     "metadata": {},
     "output_type": "execute_result"
    }
   ],
   "source": [
    "output"
   ]
  },
  {
   "cell_type": "code",
   "execution_count": null,
   "metadata": {},
   "outputs": [],
   "source": []
  }
 ],
 "metadata": {
  "kernelspec": {
   "display_name": "Python 3",
   "language": "python",
   "name": "python3"
  }
 },
 "nbformat": 4,
 "nbformat_minor": 2
}
